{
 "cells": [
  {
   "cell_type": "code",
   "execution_count": null,
   "metadata": {},
   "outputs": [],
   "source": [
    "from IPython.display import clear_output\n",
    "def board(letter):\n",
    "    patterns = {1:'  |  |  ',2:'--------'}\n",
    "    boards = {'Z':[1,2,1,2,1]}\n",
    "    for pattern in boards[letter.upper()]:\n",
    "        print(patterns[pattern])"
   ]
  },
  {
   "cell_type": "code",
   "execution_count": null,
   "metadata": {},
   "outputs": [],
   "source": [
    "board('z')"
   ]
  },
  {
   "cell_type": "code",
   "execution_count": 3,
   "metadata": {},
   "outputs": [],
   "source": [
    "def board():\n",
    "    a=['','','','','','','','','']\n",
    "    marker = int(input(\"Select your position \"))\n",
    "    a[marker]='X'\n",
    "    print(\"Your position is \",marker)\n",
    "    #print(a)\n",
    "    print(a[1],'|',a[2],'|',a[3])\n",
    "    print('---------')"
   ]
  },
  {
   "cell_type": "code",
   "execution_count": null,
   "metadata": {},
   "outputs": [],
   "source": [
    "board()"
   ]
  },
  {
   "cell_type": "code",
   "execution_count": 6,
   "metadata": {},
   "outputs": [],
   "source": [
    "from IPython.display import clear_output\n",
    "\n",
    "def TicTacToe():\n",
    "    \n",
    "    print('Welcome to Tic Tac Toe!')\n",
    "    a=['*','','','','','','','','','']\n",
    "    marker_pos=['z','z','z','z','z','z','z','z','z']\n",
    "\n",
    "    \n",
    "    def printboard():\n",
    "        print(a[7],'|',a[8],'|',a[9])\n",
    "        print('---------')\n",
    "        print(a[4],'|',a[5],'|',a[6])\n",
    "        print('---------')\n",
    "        print(a[1],'|',a[2],'|',a[3])\n",
    "        \n",
    "                    \n",
    "    def replay():\n",
    "        re_play = input(r\"Do you want to play again ? (Y\\N) \")\n",
    "        re_play_value = re_play.lower()\n",
    "        if re_play_value == 'y':\n",
    "            TicTacToe()\n",
    "        elif re_play_value == 'n':\n",
    "            clear_output()\n",
    "            print(\"Thank you for Playing :-)\")\n",
    "            exit()\n",
    "        else:\n",
    "            print(\"Please enter a valid response\")\n",
    "            replay()\n",
    "        \n",
    "    def game():\n",
    "        i=0\n",
    "        while 'z' in marker_pos:\n",
    "               \n",
    "        #Player 1 Turn\n",
    "            \n",
    "            marker = int(input(\"Player 1: Select your position \"))\n",
    "            while marker not in range (1,10):\n",
    "                try:\n",
    "                    marker = int(input(\"Invalid input. Please enter a number between 1 & 9 \"))\n",
    "                except ValueError:\n",
    "                    continue\n",
    "            marker_pos[i] = int(marker) \n",
    "            a[marker] = 'X'\n",
    "            i += 1\n",
    "            clear_output()\n",
    "            printboard()\n",
    "            if  a[1:4] == ['X','X','X'] or a[4:7] == ['X','X','X'] or a[7:] == ['X','X','X'] or \\\n",
    "                a[1:8:3] == ['X','X','X'] or a[2::3] == ['X','X','X'] or a[3::3] == ['X','X','X'] or \\\n",
    "                a[3:8:2] == ['X','X','X'] or a[1::4] == ['X','X','X']:\n",
    "                print(\"Player 1 WON !!!\")\n",
    "                break  \n",
    "            elif 'z' not in marker_pos:\n",
    "                print(\"It's a Tie\")\n",
    "                \n",
    "        # Player2's turn.\n",
    "            \n",
    "            if 'z' in marker_pos:\n",
    "            \n",
    "                marker = int(input(\"Player 2: Select your position \"))\n",
    "                while marker not in range (1,10):\n",
    "                    try:\n",
    "                        marker = int(input(\"Invalid input. Please enter a number between 1 & 9 \"))\n",
    "                    except ValueError:\n",
    "                        continue\n",
    "                marker_pos[i] = marker\n",
    "                a[marker] = 'O'\n",
    "                i += 1\n",
    "                clear_output()\n",
    "                printboard()\n",
    "                if a[1:4] == ['O','O','O'] or a[4:7] == ['O','O','O'] or a[7:] == ['O','O','O'] or \\\n",
    "                   a[1:8:3] == ['O','O','O'] or a[2::3] == ['O','O','O'] or a[3::3] == ['O','O','O'] or \\\n",
    "                   a[3:8:2] == ['O','O','O'] or a[1::4] == ['O','O','O']:\n",
    "                    print(\"Player 2 WON !!!\")\n",
    "                    break\n",
    "                    \n",
    "    def start():    \n",
    "        clear_output()        \n",
    "        printboard()\n",
    "        print('Player 1 is X')\n",
    "        print('Player 2 is O')       \n",
    "        game()\n",
    "    \n",
    "        replay()\n",
    "        clear_output()\n",
    "        print(\"Thank you for Playing :-)\")\n",
    "        exit()\n",
    "    \n",
    "    start()\n"
   ]
  },
  {
   "cell_type": "code",
   "execution_count": 7,
   "metadata": {},
   "outputs": [
    {
     "name": "stdout",
     "output_type": "stream",
     "text": [
      " |  | \n",
      "---------\n",
      " |  | \n",
      "---------\n",
      " |  | \n",
      "Player 1 is X\n",
      "Player 2 is O\n",
      "Player 1: Select your position mm\n"
     ]
    },
    {
     "ename": "ValueError",
     "evalue": "invalid literal for int() with base 10: 'mm'",
     "output_type": "error",
     "traceback": [
      "\u001b[1;31m---------------------------------------------------------------------------\u001b[0m",
      "\u001b[1;31mValueError\u001b[0m                                Traceback (most recent call last)",
      "\u001b[1;32m<ipython-input-7-3890945f96a1>\u001b[0m in \u001b[0;36m<module>\u001b[1;34m\u001b[0m\n\u001b[1;32m----> 1\u001b[1;33m \u001b[0mTicTacToe\u001b[0m\u001b[1;33m(\u001b[0m\u001b[1;33m)\u001b[0m\u001b[1;33m\u001b[0m\u001b[1;33m\u001b[0m\u001b[0m\n\u001b[0m",
      "\u001b[1;32m<ipython-input-6-51adca3df764>\u001b[0m in \u001b[0;36mTicTacToe\u001b[1;34m()\u001b[0m\n\u001b[0;32m     87\u001b[0m         \u001b[0mexit\u001b[0m\u001b[1;33m(\u001b[0m\u001b[1;33m)\u001b[0m\u001b[1;33m\u001b[0m\u001b[1;33m\u001b[0m\u001b[0m\n\u001b[0;32m     88\u001b[0m \u001b[1;33m\u001b[0m\u001b[0m\n\u001b[1;32m---> 89\u001b[1;33m     \u001b[0mstart\u001b[0m\u001b[1;33m(\u001b[0m\u001b[1;33m)\u001b[0m\u001b[1;33m\u001b[0m\u001b[1;33m\u001b[0m\u001b[0m\n\u001b[0m",
      "\u001b[1;32m<ipython-input-6-51adca3df764>\u001b[0m in \u001b[0;36mstart\u001b[1;34m()\u001b[0m\n\u001b[0;32m     82\u001b[0m         \u001b[0mgame\u001b[0m\u001b[1;33m(\u001b[0m\u001b[1;33m)\u001b[0m\u001b[1;33m\u001b[0m\u001b[1;33m\u001b[0m\u001b[0m\n\u001b[0;32m     83\u001b[0m \u001b[1;33m\u001b[0m\u001b[0m\n\u001b[1;32m---> 84\u001b[1;33m         \u001b[0mreplay\u001b[0m\u001b[1;33m(\u001b[0m\u001b[1;33m)\u001b[0m\u001b[1;33m\u001b[0m\u001b[1;33m\u001b[0m\u001b[0m\n\u001b[0m\u001b[0;32m     85\u001b[0m         \u001b[0mclear_output\u001b[0m\u001b[1;33m(\u001b[0m\u001b[1;33m)\u001b[0m\u001b[1;33m\u001b[0m\u001b[1;33m\u001b[0m\u001b[0m\n\u001b[0;32m     86\u001b[0m         \u001b[0mprint\u001b[0m\u001b[1;33m(\u001b[0m\u001b[1;34m\"Thank you for Playing :-)\"\u001b[0m\u001b[1;33m)\u001b[0m\u001b[1;33m\u001b[0m\u001b[1;33m\u001b[0m\u001b[0m\n",
      "\u001b[1;32m<ipython-input-6-51adca3df764>\u001b[0m in \u001b[0;36mreplay\u001b[1;34m()\u001b[0m\n\u001b[0;32m     20\u001b[0m         \u001b[0mre_play_value\u001b[0m \u001b[1;33m=\u001b[0m \u001b[0mre_play\u001b[0m\u001b[1;33m.\u001b[0m\u001b[0mlower\u001b[0m\u001b[1;33m(\u001b[0m\u001b[1;33m)\u001b[0m\u001b[1;33m\u001b[0m\u001b[1;33m\u001b[0m\u001b[0m\n\u001b[0;32m     21\u001b[0m         \u001b[1;32mif\u001b[0m \u001b[0mre_play_value\u001b[0m \u001b[1;33m==\u001b[0m \u001b[1;34m'y'\u001b[0m\u001b[1;33m:\u001b[0m\u001b[1;33m\u001b[0m\u001b[1;33m\u001b[0m\u001b[0m\n\u001b[1;32m---> 22\u001b[1;33m             \u001b[0mTicTacToe\u001b[0m\u001b[1;33m(\u001b[0m\u001b[1;33m)\u001b[0m\u001b[1;33m\u001b[0m\u001b[1;33m\u001b[0m\u001b[0m\n\u001b[0m\u001b[0;32m     23\u001b[0m         \u001b[1;32melif\u001b[0m \u001b[0mre_play_value\u001b[0m \u001b[1;33m==\u001b[0m \u001b[1;34m'n'\u001b[0m\u001b[1;33m:\u001b[0m\u001b[1;33m\u001b[0m\u001b[1;33m\u001b[0m\u001b[0m\n\u001b[0;32m     24\u001b[0m             \u001b[0mclear_output\u001b[0m\u001b[1;33m(\u001b[0m\u001b[1;33m)\u001b[0m\u001b[1;33m\u001b[0m\u001b[1;33m\u001b[0m\u001b[0m\n",
      "\u001b[1;32m<ipython-input-6-51adca3df764>\u001b[0m in \u001b[0;36mTicTacToe\u001b[1;34m()\u001b[0m\n\u001b[0;32m     87\u001b[0m         \u001b[0mexit\u001b[0m\u001b[1;33m(\u001b[0m\u001b[1;33m)\u001b[0m\u001b[1;33m\u001b[0m\u001b[1;33m\u001b[0m\u001b[0m\n\u001b[0;32m     88\u001b[0m \u001b[1;33m\u001b[0m\u001b[0m\n\u001b[1;32m---> 89\u001b[1;33m     \u001b[0mstart\u001b[0m\u001b[1;33m(\u001b[0m\u001b[1;33m)\u001b[0m\u001b[1;33m\u001b[0m\u001b[1;33m\u001b[0m\u001b[0m\n\u001b[0m",
      "\u001b[1;32m<ipython-input-6-51adca3df764>\u001b[0m in \u001b[0;36mstart\u001b[1;34m()\u001b[0m\n\u001b[0;32m     80\u001b[0m         \u001b[0mprint\u001b[0m\u001b[1;33m(\u001b[0m\u001b[1;34m'Player 1 is X'\u001b[0m\u001b[1;33m)\u001b[0m\u001b[1;33m\u001b[0m\u001b[1;33m\u001b[0m\u001b[0m\n\u001b[0;32m     81\u001b[0m         \u001b[0mprint\u001b[0m\u001b[1;33m(\u001b[0m\u001b[1;34m'Player 2 is O'\u001b[0m\u001b[1;33m)\u001b[0m\u001b[1;33m\u001b[0m\u001b[1;33m\u001b[0m\u001b[0m\n\u001b[1;32m---> 82\u001b[1;33m         \u001b[0mgame\u001b[0m\u001b[1;33m(\u001b[0m\u001b[1;33m)\u001b[0m\u001b[1;33m\u001b[0m\u001b[1;33m\u001b[0m\u001b[0m\n\u001b[0m\u001b[0;32m     83\u001b[0m \u001b[1;33m\u001b[0m\u001b[0m\n\u001b[0;32m     84\u001b[0m         \u001b[0mreplay\u001b[0m\u001b[1;33m(\u001b[0m\u001b[1;33m)\u001b[0m\u001b[1;33m\u001b[0m\u001b[1;33m\u001b[0m\u001b[0m\n",
      "\u001b[1;32m<ipython-input-6-51adca3df764>\u001b[0m in \u001b[0;36mgame\u001b[1;34m()\u001b[0m\n\u001b[0;32m     35\u001b[0m         \u001b[1;31m#Player 1 Turn\u001b[0m\u001b[1;33m\u001b[0m\u001b[1;33m\u001b[0m\u001b[1;33m\u001b[0m\u001b[0m\n\u001b[0;32m     36\u001b[0m \u001b[1;33m\u001b[0m\u001b[0m\n\u001b[1;32m---> 37\u001b[1;33m             \u001b[0mmarker\u001b[0m \u001b[1;33m=\u001b[0m \u001b[0mint\u001b[0m\u001b[1;33m(\u001b[0m\u001b[0minput\u001b[0m\u001b[1;33m(\u001b[0m\u001b[1;34m\"Player 1: Select your position \"\u001b[0m\u001b[1;33m)\u001b[0m\u001b[1;33m)\u001b[0m\u001b[1;33m\u001b[0m\u001b[1;33m\u001b[0m\u001b[0m\n\u001b[0m\u001b[0;32m     38\u001b[0m             \u001b[1;32mwhile\u001b[0m \u001b[0mmarker\u001b[0m \u001b[1;32mnot\u001b[0m \u001b[1;32min\u001b[0m \u001b[0mrange\u001b[0m \u001b[1;33m(\u001b[0m\u001b[1;36m1\u001b[0m\u001b[1;33m,\u001b[0m\u001b[1;36m10\u001b[0m\u001b[1;33m)\u001b[0m\u001b[1;33m:\u001b[0m\u001b[1;33m\u001b[0m\u001b[1;33m\u001b[0m\u001b[0m\n\u001b[0;32m     39\u001b[0m                 \u001b[1;32mtry\u001b[0m\u001b[1;33m:\u001b[0m\u001b[1;33m\u001b[0m\u001b[1;33m\u001b[0m\u001b[0m\n",
      "\u001b[1;31mValueError\u001b[0m: invalid literal for int() with base 10: 'mm'"
     ]
    }
   ],
   "source": [
    "TicTacToe()"
   ]
  },
  {
   "cell_type": "code",
   "execution_count": null,
   "metadata": {},
   "outputs": [],
   "source": []
  },
  {
   "cell_type": "code",
   "execution_count": null,
   "metadata": {},
   "outputs": [],
   "source": []
  },
  {
   "cell_type": "code",
   "execution_count": null,
   "metadata": {},
   "outputs": [],
   "source": []
  }
 ],
 "metadata": {
  "kernelspec": {
   "display_name": "Python 3",
   "language": "python",
   "name": "python3"
  },
  "language_info": {
   "codemirror_mode": {
    "name": "ipython",
    "version": 3
   },
   "file_extension": ".py",
   "mimetype": "text/x-python",
   "name": "python",
   "nbconvert_exporter": "python",
   "pygments_lexer": "ipython3",
   "version": "3.7.1"
  }
 },
 "nbformat": 4,
 "nbformat_minor": 2
}
