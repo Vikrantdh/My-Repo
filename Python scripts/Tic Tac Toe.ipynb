{
 "cells": [
  {
   "cell_type": "code",
   "execution_count": 2,
   "metadata": {},
   "outputs": [],
   "source": [
    "from IPython.display import clear_output\n",
    "def board(letter):\n",
    "    patterns = {1:'  |  |  ',2:'--------'}\n",
    "    boards = {'Z':[1,2,1,2,1]}\n",
    "    for pattern in boards[letter.upper()]:\n",
    "        print(patterns[pattern])"
   ]
  },
  {
   "cell_type": "code",
   "execution_count": 3,
   "metadata": {},
   "outputs": [],
   "source": [
    "def board():\n",
    "    a=['','','','','','','','','']\n",
    "    marker = int(input(\"Select your position \"))\n",
    "    a[marker]='X'\n",
    "    print(\"Your position is \",marker)\n",
    "    #print(a)\n",
    "    print(a[1],'|',a[2],'|',a[3])\n",
    "    print('---------')"
   ]
  },
  {
   "cell_type": "code",
   "execution_count": 4,
   "metadata": {},
   "outputs": [],
   "source": [
    "from IPython.display import clear_output\n",
    "\n",
    "def TicTacToe():\n",
    "    \n",
    "    print('Welcome to Tic Tac Toe!')\n",
    "    a=['*','','','','','','','','','']\n",
    "    marker_pos=['z','z','z','z','z','z','z','z','z']\n",
    "\n",
    "    \n",
    "    def printboard():\n",
    "        print(a[7],'|',a[8],'|',a[9])\n",
    "        print('---------')\n",
    "        print(a[4],'|',a[5],'|',a[6])\n",
    "        print('---------')\n",
    "        print(a[1],'|',a[2],'|',a[3])\n",
    "        \n",
    "                    \n",
    "    def replay():\n",
    "        re_play = input(r\"Do you want to play again ? (Y\\N) \")\n",
    "        re_play_value = re_play.lower()\n",
    "        if re_play_value == 'y':\n",
    "            TicTacToe()\n",
    "        elif re_play_value == 'n':\n",
    "            clear_output()\n",
    "            print(\"Thank you for Playing :-)\")\n",
    "            exit()\n",
    "        else:\n",
    "            print(\"Please enter a valid response\")\n",
    "            replay()\n",
    "        \n",
    "    def game():\n",
    "        i=0\n",
    "        while 'z' in marker_pos:\n",
    "               \n",
    "        #Player 1 Turn\n",
    "            \n",
    "            marker = int(input(\"Player 1: Select your position \"))\n",
    "            while marker not in range (1,10):\n",
    "                try:\n",
    "                    marker = int(input(\"Invalid input. Please enter a number between 1 & 9 \"))\n",
    "                except ValueError:\n",
    "                    continue\n",
    "            marker_pos[i] = int(marker) \n",
    "            a[marker] = 'X'\n",
    "            i += 1\n",
    "            clear_output()\n",
    "            printboard()\n",
    "            if  a[1:4] == ['X','X','X'] or a[4:7] == ['X','X','X'] or a[7:] == ['X','X','X'] or \\\n",
    "                a[1:8:3] == ['X','X','X'] or a[2::3] == ['X','X','X'] or a[3::3] == ['X','X','X'] or \\\n",
    "                a[3:8:2] == ['X','X','X'] or a[1::4] == ['X','X','X']:\n",
    "                print(\"Player 1 WON !!!\")\n",
    "                break  \n",
    "            elif 'z' not in marker_pos:\n",
    "                print(\"It's a Tie\")\n",
    "                \n",
    "        # Player2's turn.\n",
    "            \n",
    "            if 'z' in marker_pos:\n",
    "            \n",
    "                marker = int(input(\"Player 2: Select your position \"))\n",
    "                while marker not in range (1,10):\n",
    "                    try:\n",
    "                        marker = int(input(\"Invalid input. Please enter a number between 1 & 9 \"))\n",
    "                    except ValueError:\n",
    "                        continue\n",
    "                marker_pos[i] = marker\n",
    "                a[marker] = 'O'\n",
    "                i += 1\n",
    "                clear_output()\n",
    "                printboard()\n",
    "                if a[1:4] == ['O','O','O'] or a[4:7] == ['O','O','O'] or a[7:] == ['O','O','O'] or \\\n",
    "                   a[1:8:3] == ['O','O','O'] or a[2::3] == ['O','O','O'] or a[3::3] == ['O','O','O'] or \\\n",
    "                   a[3:8:2] == ['O','O','O'] or a[1::4] == ['O','O','O']:\n",
    "                    print(\"Player 2 WON !!!\")\n",
    "                    break\n",
    "                    \n",
    "    def start():    \n",
    "        clear_output()        \n",
    "        printboard()\n",
    "        print('Player 1 is X')\n",
    "        print('Player 2 is O')       \n",
    "        game()\n",
    "    \n",
    "        replay()\n",
    "        clear_output()\n",
    "        print(\"Thank you for Playing :-)\")\n",
    "        exit()\n",
    "    \n",
    "    start()\n"
   ]
  },
  {
   "cell_type": "code",
   "execution_count": 5,
   "metadata": {},
   "outputs": [
    {
     "name": "stdout",
     "output_type": "stream",
     "text": [
      "Thank you for Playing :-)\n"
     ]
    }
   ],
   "source": [
    "TicTacToe()"
   ]
  },
  {
   "cell_type": "code",
   "execution_count": null,
   "metadata": {},
   "outputs": [],
   "source": []
  },
  {
   "cell_type": "code",
   "execution_count": null,
   "metadata": {},
   "outputs": [],
   "source": []
  },
  {
   "cell_type": "code",
   "execution_count": null,
   "metadata": {},
   "outputs": [],
   "source": []
  }
 ],
 "metadata": {
  "kernelspec": {
   "display_name": "Python 3",
   "language": "python",
   "name": "python3"
  },
  "language_info": {
   "codemirror_mode": {
    "name": "ipython",
    "version": 3
   },
   "file_extension": ".py",
   "mimetype": "text/x-python",
   "name": "python",
   "nbconvert_exporter": "python",
   "pygments_lexer": "ipython3",
   "version": "3.7.1"
  }
 },
 "nbformat": 4,
 "nbformat_minor": 2
}
