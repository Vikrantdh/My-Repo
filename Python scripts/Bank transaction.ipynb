{
 "cells": [
  {
   "cell_type": "code",
   "execution_count": 146,
   "metadata": {},
   "outputs": [],
   "source": [
    "class Account(object):\n",
    "    \n",
    "    def __init__(self,owner,balance=0):\n",
    "        \n",
    "        self.owner = owner\n",
    "        self.balance = balance\n",
    "        \n",
    "    def withdraw(self,debit):\n",
    "        \n",
    "        self.debit=debit\n",
    "        if debit <= self.balance:\n",
    "            self.balance = self.balance - debit\n",
    "            print(f\" {debit} debited from your account. Your current balance is \", self.balance)\n",
    "        else:\n",
    "            print(\"Insufficient balance\")\n",
    "            \n",
    "        \n",
    "    def deposit(self,credit):\n",
    "        \n",
    "        self.credit = credit\n",
    "        self.balance = self.balance + credit\n",
    "        print(f\" {credit} credited into your account. Your current balance is \", self.balance)\n",
    "        \n",
    "    def __str__(self):\n",
    "        \n",
    "        return f\"Owner : {self.owner} \\nBalance : {self.balance}\"\n",
    "        "
   ]
  },
  {
   "cell_type": "code",
   "execution_count": 147,
   "metadata": {},
   "outputs": [],
   "source": [
    "ac = Account('Vicky',500)"
   ]
  },
  {
   "cell_type": "code",
   "execution_count": 148,
   "metadata": {},
   "outputs": [
    {
     "name": "stdout",
     "output_type": "stream",
     "text": [
      "Owner : Vicky \n",
      "Balance : 500\n"
     ]
    }
   ],
   "source": [
    "print(ac)"
   ]
  },
  {
   "cell_type": "code",
   "execution_count": 134,
   "metadata": {},
   "outputs": [
    {
     "name": "stdout",
     "output_type": "stream",
     "text": [
      " 700 credited into your account. Your current balance is  1200\n"
     ]
    }
   ],
   "source": [
    "ac.deposit(700)"
   ]
  },
  {
   "cell_type": "code",
   "execution_count": 135,
   "metadata": {},
   "outputs": [
    {
     "name": "stdout",
     "output_type": "stream",
     "text": [
      " 100 debited from your account. Your current balance is  1100\n"
     ]
    }
   ],
   "source": [
    "ac.withdraw(100)"
   ]
  },
  {
   "cell_type": "code",
   "execution_count": 136,
   "metadata": {},
   "outputs": [
    {
     "name": "stdout",
     "output_type": "stream",
     "text": [
      " 200 credited into your account. Your current balance is  1300\n"
     ]
    }
   ],
   "source": [
    "ac.deposit(200)"
   ]
  },
  {
   "cell_type": "code",
   "execution_count": 137,
   "metadata": {},
   "outputs": [
    {
     "name": "stdout",
     "output_type": "stream",
     "text": [
      " 300 debited from your account. Your current balance is  1000\n"
     ]
    }
   ],
   "source": [
    "ac.withdraw(300)"
   ]
  },
  {
   "cell_type": "code",
   "execution_count": 139,
   "metadata": {},
   "outputs": [
    {
     "name": "stdout",
     "output_type": "stream",
     "text": [
      " 1000 debited from your account. Your current balance is  0\n"
     ]
    }
   ],
   "source": [
    "ac.withdraw(1000)"
   ]
  },
  {
   "cell_type": "code",
   "execution_count": null,
   "metadata": {},
   "outputs": [],
   "source": []
  }
 ],
 "metadata": {
  "kernelspec": {
   "display_name": "Python 3",
   "language": "python",
   "name": "python3"
  },
  "language_info": {
   "codemirror_mode": {
    "name": "ipython",
    "version": 3
   },
   "file_extension": ".py",
   "mimetype": "text/x-python",
   "name": "python",
   "nbconvert_exporter": "python",
   "pygments_lexer": "ipython3",
   "version": "3.7.1"
  }
 },
 "nbformat": 4,
 "nbformat_minor": 2
}
